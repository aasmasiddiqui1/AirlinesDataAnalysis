{
 "cells": [
  {
   "cell_type": "markdown",
   "id": "a646fbbd-7db8-4b8f-a916-3813882dbe63",
   "metadata": {},
   "source": [
    "# Setting Up Enviroment"
   ]
  },
  {
   "cell_type": "code",
   "execution_count": 1,
   "id": "697dcbb4-93ae-47b8-b9ce-74842c4aae1a",
   "metadata": {},
   "outputs": [
    {
     "name": "stdout",
     "output_type": "stream",
     "text": [
      "Requirement already satisfied: sqlalchemy in c:\\users\\administrator\\appdata\\local\\programs\\python\\python312\\lib\\site-packages (2.0.31)\n",
      "Requirement already satisfied: pyodbc in c:\\users\\administrator\\appdata\\local\\programs\\python\\python312\\lib\\site-packages (5.1.0)\n",
      "Requirement already satisfied: pandas in c:\\users\\administrator\\appdata\\local\\programs\\python\\python312\\lib\\site-packages (2.2.2)\n",
      "Requirement already satisfied: typing-extensions>=4.6.0 in c:\\users\\administrator\\appdata\\local\\programs\\python\\python312\\lib\\site-packages (from sqlalchemy) (4.12.2)\n",
      "Requirement already satisfied: greenlet!=0.4.17 in c:\\users\\administrator\\appdata\\local\\programs\\python\\python312\\lib\\site-packages (from sqlalchemy) (3.0.3)\n",
      "Requirement already satisfied: numpy>=1.26.0 in c:\\users\\administrator\\appdata\\local\\programs\\python\\python312\\lib\\site-packages (from pandas) (2.0.0)\n",
      "Requirement already satisfied: python-dateutil>=2.8.2 in c:\\users\\administrator\\appdata\\local\\programs\\python\\python312\\lib\\site-packages (from pandas) (2.9.0.post0)\n",
      "Requirement already satisfied: pytz>=2020.1 in c:\\users\\administrator\\appdata\\local\\programs\\python\\python312\\lib\\site-packages (from pandas) (2024.1)\n",
      "Requirement already satisfied: tzdata>=2022.7 in c:\\users\\administrator\\appdata\\local\\programs\\python\\python312\\lib\\site-packages (from pandas) (2024.1)\n",
      "Requirement already satisfied: six>=1.5 in c:\\users\\administrator\\appdata\\local\\programs\\python\\python312\\lib\\site-packages (from python-dateutil>=2.8.2->pandas) (1.16.0)\n",
      "Note: you may need to restart the kernel to use updated packages.\n"
     ]
    }
   ],
   "source": [
    "pip install sqlalchemy pyodbc pandas"
   ]
  },
  {
   "cell_type": "code",
   "execution_count": 2,
   "id": "e9965dd3-bcd9-4359-add3-e0de68f4941f",
   "metadata": {},
   "outputs": [
    {
     "name": "stdout",
     "output_type": "stream",
     "text": [
      "Installed ODBC Drivers:\n",
      "SQL Server\n",
      "SQL Server Native Client RDA 11.0\n",
      "ODBC Driver 17 for SQL Server\n"
     ]
    }
   ],
   "source": [
    "#verifying driver\n",
    "import pyodbc\n",
    "\n",
    "drivers = pyodbc.drivers()\n",
    "print(\"Installed ODBC Drivers:\")\n",
    "for driver in drivers:\n",
    "    print(driver)"
   ]
  },
  {
   "cell_type": "code",
   "execution_count": 3,
   "id": "f1bf5afb-0bba-4599-8dd7-68280e9c24c4",
   "metadata": {},
   "outputs": [],
   "source": [
    "import pyodbc\n",
    "import pandas as pd\n",
    "from sqlalchemy import create_engine\n",
    "import sqlalchemy as sa\n",
    "\n",
    "# Define your connection parameters\n",
    "server = r'xxxxxx'\n",
    "database = r'Pizza_Project'\n",
    "\n",
    "# Create the connection string\n",
    "connection_string = f'mssql+pyodbc://{server}/{database}?trusted_connection=yes&driver=ODBC+Driver+17+for+SQL+Server'\n",
    "\n",
    "# Create an engine\n",
    "engine = sa.create_engine(connection_string)"
   ]
  },
  {
   "cell_type": "code",
   "execution_count": 4,
   "id": "46fbdb2d-a92a-4123-8a76-50828042ed9e",
   "metadata": {},
   "outputs": [
    {
     "name": "stdout",
     "output_type": "stream",
     "text": [
      "Connection successful\n",
      "Pizzas DataFrame:\n",
      "     pizza_id pizza_type_id size  price\n",
      "0   bbq_ckn_s       bbq_ckn    S  12.75\n",
      "1   bbq_ckn_m       bbq_ckn    M  16.75\n",
      "2   bbq_ckn_l       bbq_ckn    L  20.75\n",
      "3  cali_ckn_s      cali_ckn    S  12.75\n",
      "4  cali_ckn_m      cali_ckn    M  16.75\n",
      "\n",
      "Pizza Types DataFrame:\n",
      "  pizza_type_id                          name category  \\\n",
      "0       bbq_ckn    The Barbecue Chicken Pizza  Chicken   \n",
      "1      cali_ckn  The California Chicken Pizza  Chicken   \n",
      "2   ckn_alfredo     The Chicken Alfredo Pizza  Chicken   \n",
      "3     ckn_pesto       The Chicken Pesto Pizza  Chicken   \n",
      "4    southw_ckn   The Southwest Chicken Pizza  Chicken   \n",
      "\n",
      "                                         ingredients  \n",
      "0  Barbecued Chicken, Red Peppers, Green Peppers,...  \n",
      "1  Chicken, Artichoke, Spinach, Garlic, Jalapeno ...  \n",
      "2  Chicken, Red Onions, Red Peppers, Mushrooms, A...  \n",
      "3  Chicken, Tomatoes, Red Peppers, Spinach, Garli...  \n",
      "4  Chicken, Tomatoes, Red Peppers, Red Onions, Ja...  \n",
      "\n",
      "Order Details DataFrame:\n",
      "   order_details_id  order_id       pizza_id  quantity\n",
      "0                 1         1     hawaiian_m         1\n",
      "1                 2         2  classic_dlx_m         1\n",
      "2                 3         2  five_cheese_l         1\n",
      "3                 4         2    ital_supr_l         1\n",
      "4                 5         2     mexicana_m         1\n",
      "\n",
      "Orders DataFrame:\n",
      "   order_id        date      time\n",
      "0         1  2023-01-01  11:38:36\n",
      "1         2  2023-01-01  11:57:40\n",
      "2         3  2023-01-01  12:12:28\n",
      "3         4  2023-01-01  12:16:31\n",
      "4         5  2023-01-01  12:21:30\n"
     ]
    }
   ],
   "source": [
    "# Test the connection\n",
    "try:\n",
    "    with engine.connect() as conn:\n",
    "        print(\"Connection successful\")\n",
    "except Exception as e:\n",
    "    print(\"Error: \", e)\n",
    "\n",
    "# Load data from SQL Server into pandas DataFrames\n",
    "query_pizzas = \"SELECT * FROM dbo.pizzas\"\n",
    "query_pizza_types = \"SELECT * FROM dbo.pizza_types\"\n",
    "query_order_details = \"SELECT * FROM dbo.order_details\"\n",
    "query_orders = \"SELECT * FROM dbo.orders_id\"\n",
    "\n",
    "# Use pandas to read the SQL queries into DataFrames\n",
    "pizzas_df = pd.read_sql_query(query_pizzas, engine)\n",
    "pizza_types_df = pd.read_sql_query(query_pizza_types, engine)\n",
    "order_details_df = pd.read_sql_query(query_order_details, engine)\n",
    "orders_df = pd.read_sql_query(query_orders, engine)\n",
    "\n",
    "# Display the first few rows of each DataFrame to verify the data\n",
    "print(\"Pizzas DataFrame:\")\n",
    "print(pizzas_df.head())\n",
    "\n",
    "print(\"\\nPizza Types DataFrame:\")\n",
    "print(pizza_types_df.head())\n",
    "\n",
    "print(\"\\nOrder Details DataFrame:\")\n",
    "print(order_details_df.head())\n",
    "\n",
    "print(\"\\nOrders DataFrame:\")\n",
    "print(orders_df.head())"
   ]
  },
  {
   "cell_type": "markdown",
   "id": "d858346b-84cc-4e05-93b6-bee772bb37cc",
   "metadata": {},
   "source": [
    "# Performing EDA"
   ]
  },
  {
   "cell_type": "code",
   "execution_count": 5,
   "id": "76998ea6-3bb5-429e-b3a7-1c32c9615b6c",
   "metadata": {},
   "outputs": [
    {
     "name": "stdout",
     "output_type": "stream",
     "text": [
      "Columns in order_details_extended_df:\n",
      "Index(['order_details_id', 'order_id', 'pizza_id', 'quantity', 'pizza_type_id',\n",
      "       'size', 'price', 'name', 'category', 'ingredients', 'date'],\n",
      "      dtype='object')\n"
     ]
    }
   ],
   "source": [
    "# Merge DataFrames for EDA\n",
    "order_details_extended_df = pd.merge(order_details_df, pizzas_df, on='pizza_id')\n",
    "order_details_extended_df = pd.merge(order_details_extended_df, pizza_types_df, on='pizza_type_id')\n",
    "\n",
    "# Ensure the 'date' column is merged correctly\n",
    "order_details_extended_df = pd.merge(order_details_extended_df, orders_df[['order_id', 'date']], on='order_id')\n",
    "\n",
    "# Display the columns to check if 'date' is included\n",
    "print(\"Columns in order_details_extended_df:\")\n",
    "print(order_details_extended_df.columns)\n",
    "\n",
    "# Convert 'date' column to datetime format\n",
    "order_details_extended_df['date'] = pd.to_datetime(order_details_extended_df['date'])"
   ]
  },
  {
   "cell_type": "markdown",
   "id": "69790b3e-dfdd-4626-b165-277f0aff10a0",
   "metadata": {},
   "source": [
    "### Analysis"
   ]
  },
  {
   "cell_type": "code",
   "execution_count": 6,
   "id": "9a6c404b-2971-4a76-8b7b-93dc9cca88e3",
   "metadata": {},
   "outputs": [
    {
     "name": "stdout",
     "output_type": "stream",
     "text": [
      "Total number of orders placed: 21338\n"
     ]
    }
   ],
   "source": [
    "# Retrieve the total number of orders placed\n",
    "total_orders = orders_df['order_id'].nunique()\n",
    "print(\"Total number of orders placed:\", total_orders)"
   ]
  },
  {
   "cell_type": "code",
   "execution_count": 7,
   "id": "9f1f35ce-d8c6-4543-91ff-7078f6ee91c9",
   "metadata": {},
   "outputs": [
    {
     "name": "stdout",
     "output_type": "stream",
     "text": [
      "Total revenue generated from pizza sales: 818073.8508396149\n"
     ]
    }
   ],
   "source": [
    "# Calculate the total revenue generated from pizza sales\n",
    "total_revenue = (order_details_extended_df['quantity'] * order_details_extended_df['price']).sum()\n",
    "print(\"Total revenue generated from pizza sales:\", total_revenue)"
   ]
  },
  {
   "cell_type": "code",
   "execution_count": 8,
   "id": "e85ac821-e552-4a37-bfef-5ca5a8febe9d",
   "metadata": {},
   "outputs": [
    {
     "name": "stdout",
     "output_type": "stream",
     "text": [
      "Highest-priced pizza: pizza_id         the_greek_xxl\n",
      "pizza_type_id        the_greek\n",
      "size                       XXL\n",
      "price                35.950001\n",
      "Name: 43, dtype: object\n"
     ]
    }
   ],
   "source": [
    "# Identify the highest-priced pizza\n",
    "highest_priced_pizza = pizzas_df.loc[pizzas_df['price'].idxmax()]\n",
    "print(\"Highest-priced pizza:\", highest_priced_pizza)"
   ]
  },
  {
   "cell_type": "code",
   "execution_count": 9,
   "id": "2a28cf66-a8a5-4233-a6a4-6cc1edd55001",
   "metadata": {},
   "outputs": [
    {
     "name": "stdout",
     "output_type": "stream",
     "text": [
      "Most common pizza size ordered: L\n"
     ]
    }
   ],
   "source": [
    "# Identify the most common pizza size ordered\n",
    "most_common_pizza_size = order_details_extended_df['size'].mode()[0]\n",
    "print(\"Most common pizza size ordered:\", most_common_pizza_size)"
   ]
  },
  {
   "cell_type": "code",
   "execution_count": 10,
   "id": "31bd1695-475c-43f6-a3c9-6fa4737e18be",
   "metadata": {},
   "outputs": [
    {
     "name": "stdout",
     "output_type": "stream",
     "text": [
      "Top 5 most ordered pizza types along with their quantities:\n",
      "name\n",
      "The Classic Deluxe Pizza        2453\n",
      "The Barbecue Chicken Pizza      2433\n",
      "The Hawaiian Pizza              2422\n",
      "The Pepperoni Pizza             2417\n",
      "The California Chicken Pizza    2373\n",
      "Name: quantity, dtype: int64\n"
     ]
    }
   ],
   "source": [
    "# List the top 5 most ordered pizza types along with their quantities\n",
    "top_5_pizza_types = order_details_extended_df.groupby('name')['quantity'].sum().nlargest(5)\n",
    "print(\"Top 5 most ordered pizza types along with their quantities:\")\n",
    "print(top_5_pizza_types)"
   ]
  },
  {
   "cell_type": "code",
   "execution_count": 11,
   "id": "820a5667-46ce-42a0-b45b-67e69520b0b8",
   "metadata": {},
   "outputs": [
    {
     "name": "stdout",
     "output_type": "stream",
     "text": [
      "Total quantity of each pizza category ordered:\n",
      "category\n",
      "Chicken    11059\n",
      "Classic    14884\n",
      "Supreme    11992\n",
      "Veggie     11653\n",
      "Name: quantity, dtype: int64\n"
     ]
    }
   ],
   "source": [
    "# Find the total quantity of each pizza category ordered\n",
    "category_quantity = order_details_extended_df.groupby('category')['quantity'].sum()\n",
    "print(\"Total quantity of each pizza category ordered:\")\n",
    "print(category_quantity)"
   ]
  },
  {
   "cell_type": "code",
   "execution_count": 12,
   "id": "37e4a03e-0118-43c0-a9f0-41963ed4afbf",
   "metadata": {},
   "outputs": [
    {
     "name": "stdout",
     "output_type": "stream",
     "text": [
      "Distribution of orders by hour of the day:\n",
      "hour\n",
      "9        1\n",
      "10       8\n",
      "11    1231\n",
      "12    2520\n",
      "13    2455\n",
      "14    1472\n",
      "15    1468\n",
      "16    1920\n",
      "17    2336\n",
      "18    2399\n",
      "19    2009\n",
      "20    1642\n",
      "21    1198\n",
      "22     663\n",
      "23      28\n",
      "Name: count, dtype: int64\n"
     ]
    }
   ],
   "source": [
    "# Determine the distribution of orders by hour of the day\n",
    "orders_df['hour'] = orders_df['time'].apply(lambda x: x.hour)\n",
    "orders_by_hour = orders_df['hour'].value_counts().sort_index()\n",
    "print(\"Distribution of orders by hour of the day:\")\n",
    "print(orders_by_hour)"
   ]
  },
  {
   "cell_type": "code",
   "execution_count": 13,
   "id": "fc24e1ef-0c22-47fe-8b55-bed8676c4a4c",
   "metadata": {
    "scrolled": true
   },
   "outputs": [
    {
     "name": "stdout",
     "output_type": "stream",
     "text": [
      "Category-wise distribution of pizzas:\n",
      "category\n",
      "Classic    14575\n",
      "Supreme    11781\n",
      "Veggie     11453\n",
      "Chicken    10824\n",
      "Name: count, dtype: int64\n"
     ]
    }
   ],
   "source": [
    "# Find the category-wise distribution of pizzas\n",
    "category_distribution = order_details_extended_df['category'].value_counts()\n",
    "print(\"Category-wise distribution of pizzas:\")\n",
    "print(category_distribution)"
   ]
  },
  {
   "cell_type": "code",
   "execution_count": 14,
   "id": "42e0f7f3-7858-4b72-a18b-5246afeef4e5",
   "metadata": {},
   "outputs": [
    {
     "name": "stdout",
     "output_type": "stream",
     "text": [
      "Average number of pizzas ordered per day:\n",
      "date\n",
      "2023-01-01    1.006211\n",
      "2023-01-02    1.031250\n",
      "2023-01-03    1.025974\n",
      "2023-01-04    1.000000\n",
      "2023-01-05    1.033058\n",
      "                ...   \n",
      "2023-12-27    1.022989\n",
      "2023-12-28    1.000000\n",
      "2023-12-29    1.038961\n",
      "2023-12-30    1.123288\n",
      "2023-12-31    1.040936\n",
      "Name: quantity, Length: 358, dtype: float64\n"
     ]
    }
   ],
   "source": [
    "# Group the orders by date and calculate the average number of pizzas ordered per day\n",
    "avg_pizzas_per_day = order_details_extended_df.groupby(order_details_extended_df['date'].dt.date)['quantity'].mean()\n",
    "print(\"Average number of pizzas ordered per day:\")\n",
    "print(avg_pizzas_per_day)"
   ]
  },
  {
   "cell_type": "code",
   "execution_count": 15,
   "id": "650ec984-d372-4513-b1bf-45f7e772d787",
   "metadata": {},
   "outputs": [
    {
     "name": "stdout",
     "output_type": "stream",
     "text": [
      "Top 3 most ordered pizza types based on revenue:\n",
      "name\n",
      "The Thai Chicken Pizza          43463.75\n",
      "The Barbecue Chicken Pizza      42784.75\n",
      "The California Chicken Pizza    41443.75\n",
      "Name: revenue, dtype: float64\n"
     ]
    }
   ],
   "source": [
    "# Determine the top 3 most ordered pizza types based on revenue\n",
    "order_details_extended_df['revenue'] = order_details_extended_df['quantity'] * order_details_extended_df['price']\n",
    "top_3_pizza_types_revenue = order_details_extended_df.groupby('name')['revenue'].sum().nlargest(3)\n",
    "print(\"Top 3 most ordered pizza types based on revenue:\")\n",
    "print(top_3_pizza_types_revenue)"
   ]
  },
  {
   "cell_type": "code",
   "execution_count": 16,
   "id": "1825b161-fbeb-4b37-9bf0-93418cfd791e",
   "metadata": {},
   "outputs": [
    {
     "name": "stdout",
     "output_type": "stream",
     "text": [
      "Percentage contribution of each pizza type to total revenue:\n",
      "name\n",
      "The Barbecue Chicken Pizza                    5.229937\n",
      "The Big Meat Pizza                            2.807570\n",
      "The Brie Carre Pizza                          1.413668\n",
      "The Calabrese Pizza                           1.950252\n",
      "The California Chicken Pizza                  5.066016\n",
      "The Chicken Alfredo Pizza                     2.066348\n",
      "The Chicken Pesto Pizza                       2.045200\n",
      "The Classic Deluxe Pizza                      4.667121\n",
      "The Five Cheese Pizza                         3.186326\n",
      "The Four Cheese Pizza                         3.946300\n",
      "The Greek Pizza                               3.473721\n",
      "The Green Garden Pizza                        1.707395\n",
      "The Hawaiian Pizza                            3.944693\n",
      "The Italian Capocollo Pizza                   3.064943\n",
      "The Italian Supreme Pizza                     4.092632\n",
      "The Italian Vegetables Pizza                  1.957678\n",
      "The Mediterranean Pizza                       1.881065\n",
      "The Mexicana Pizza                            3.271679\n",
      "The Napolitana Pizza                          2.945822\n",
      "The Pepper Salami Pizza                       3.123679\n",
      "The Pepperoni Pizza                           3.685395\n",
      "The Pepperoni, Mushroom, and Peppers Pizza    2.300954\n",
      "The Prosciutto and Arugula Pizza              2.957343\n",
      "The Sicilian Pizza                            3.782116\n",
      "The Soppressata Pizza                         2.009385\n",
      "The Southwest Chicken Pizza                   4.244421\n",
      "The Spicy Italian Pizza                       4.264804\n",
      "The Spinach Pesto Pizza                       1.906429\n",
      "The Spinach Supreme Pizza                     1.867527\n",
      "The Spinach and Feta Pizza                    2.844639\n",
      "The Thai Chicken Pizza                        5.312937\n",
      "The Vegetables + Vegetables Pizza             2.982005\n",
      "Name: revenue, dtype: float64\n"
     ]
    }
   ],
   "source": [
    "# Calculate the percentage contribution of each pizza type to total revenue\n",
    "total_revenue = order_details_extended_df['revenue'].sum()\n",
    "pizza_type_revenue_percentage = (order_details_extended_df.groupby('name')['revenue'].sum() / total_revenue) * 100\n",
    "print(\"Percentage contribution of each pizza type to total revenue:\")\n",
    "print(pizza_type_revenue_percentage)"
   ]
  },
  {
   "cell_type": "code",
   "execution_count": 17,
   "id": "a9950835-e885-4be5-8bc2-a9d64fec154c",
   "metadata": {},
   "outputs": [
    {
     "name": "stdout",
     "output_type": "stream",
     "text": [
      "Cumulative revenue generated over time:\n",
      "date\n",
      "2023-01-01      2713.850002\n",
      "2023-01-02      5445.750004\n",
      "2023-01-03      8108.150007\n",
      "2023-01-04      9863.600008\n",
      "2023-01-05     11929.550009\n",
      "                  ...      \n",
      "2023-12-27    810829.600828\n",
      "2023-12-28    812466.800831\n",
      "2023-12-29    813820.050833\n",
      "2023-12-30    815157.850836\n",
      "2023-12-31    818073.850840\n",
      "Name: revenue, Length: 358, dtype: float64\n"
     ]
    }
   ],
   "source": [
    "# Analyze the cumulative revenue generated over time\n",
    "cumulative_revenue = order_details_extended_df.groupby(order_details_extended_df['date'].dt.date)['revenue'].sum().cumsum()\n",
    "print(\"Cumulative revenue generated over time:\")\n",
    "print(cumulative_revenue)"
   ]
  },
  {
   "cell_type": "code",
   "execution_count": 18,
   "id": "9a4a3f7b-0487-4aa6-95ff-b1ba231c5729",
   "metadata": {},
   "outputs": [
    {
     "name": "stdout",
     "output_type": "stream",
     "text": [
      "Top 3 most ordered pizza types based on revenue for each pizza category:\n",
      "category  name                        \n",
      "Chicken   The Thai Chicken Pizza          43463.750000\n",
      "          The Barbecue Chicken Pizza      42784.750000\n",
      "          The California Chicken Pizza    41443.750000\n",
      "Classic   The Classic Deluxe Pizza        38180.500000\n",
      "          The Hawaiian Pizza              32270.500000\n",
      "          The Pepperoni Pizza             30149.250000\n",
      "Supreme   The Spicy Italian Pizza         34889.250000\n",
      "          The Italian Supreme Pizza       33480.750000\n",
      "          The Sicilian Pizza              30940.500000\n",
      "Veggie    The Four Cheese Pizza           32283.651005\n",
      "          The Mexicana Pizza              26764.750000\n",
      "          The Five Cheese Pizza           26066.500000\n",
      "Name: revenue, dtype: float64\n"
     ]
    }
   ],
   "source": [
    "# Determine the top 3 most ordered pizza types based on revenue for each pizza category\n",
    "top_3_pizza_types_by_category = order_details_extended_df.groupby(['category', 'name'])['revenue'].sum().groupby(level=0, group_keys=False).nlargest(3)\n",
    "print(\"Top 3 most ordered pizza types based on revenue for each pizza category:\")\n",
    "print(top_3_pizza_types_by_category)"
   ]
  },
  {
   "cell_type": "markdown",
   "id": "ae4501c3-b1c0-403b-9a03-e33d021a411b",
   "metadata": {},
   "source": [
    "# Visualization"
   ]
  },
  {
   "cell_type": "code",
   "execution_count": 19,
   "id": "d2a5bc7f-288a-4ed9-b9c1-96770b489ad8",
   "metadata": {},
   "outputs": [
    {
     "name": "stdout",
     "output_type": "stream",
     "text": [
      "Requirement already satisfied: matplotlib in c:\\users\\administrator\\appdata\\local\\programs\\python\\python312\\lib\\site-packages (3.9.1)\n",
      "Requirement already satisfied: seaborn in c:\\users\\administrator\\appdata\\local\\programs\\python\\python312\\lib\\site-packages (0.13.2)\n",
      "Requirement already satisfied: contourpy>=1.0.1 in c:\\users\\administrator\\appdata\\local\\programs\\python\\python312\\lib\\site-packages (from matplotlib) (1.2.1)\n",
      "Requirement already satisfied: cycler>=0.10 in c:\\users\\administrator\\appdata\\local\\programs\\python\\python312\\lib\\site-packages (from matplotlib) (0.12.1)\n",
      "Requirement already satisfied: fonttools>=4.22.0 in c:\\users\\administrator\\appdata\\local\\programs\\python\\python312\\lib\\site-packages (from matplotlib) (4.53.1)\n",
      "Requirement already satisfied: kiwisolver>=1.3.1 in c:\\users\\administrator\\appdata\\local\\programs\\python\\python312\\lib\\site-packages (from matplotlib) (1.4.5)\n",
      "Requirement already satisfied: numpy>=1.23 in c:\\users\\administrator\\appdata\\local\\programs\\python\\python312\\lib\\site-packages (from matplotlib) (2.0.0)\n",
      "Requirement already satisfied: packaging>=20.0 in c:\\users\\administrator\\appdata\\local\\programs\\python\\python312\\lib\\site-packages (from matplotlib) (24.1)\n",
      "Requirement already satisfied: pillow>=8 in c:\\users\\administrator\\appdata\\local\\programs\\python\\python312\\lib\\site-packages (from matplotlib) (10.4.0)\n",
      "Requirement already satisfied: pyparsing>=2.3.1 in c:\\users\\administrator\\appdata\\local\\programs\\python\\python312\\lib\\site-packages (from matplotlib) (3.1.2)\n",
      "Requirement already satisfied: python-dateutil>=2.7 in c:\\users\\administrator\\appdata\\local\\programs\\python\\python312\\lib\\site-packages (from matplotlib) (2.9.0.post0)\n",
      "Requirement already satisfied: pandas>=1.2 in c:\\users\\administrator\\appdata\\local\\programs\\python\\python312\\lib\\site-packages (from seaborn) (2.2.2)\n",
      "Requirement already satisfied: pytz>=2020.1 in c:\\users\\administrator\\appdata\\local\\programs\\python\\python312\\lib\\site-packages (from pandas>=1.2->seaborn) (2024.1)\n",
      "Requirement already satisfied: tzdata>=2022.7 in c:\\users\\administrator\\appdata\\local\\programs\\python\\python312\\lib\\site-packages (from pandas>=1.2->seaborn) (2024.1)\n",
      "Requirement already satisfied: six>=1.5 in c:\\users\\administrator\\appdata\\local\\programs\\python\\python312\\lib\\site-packages (from python-dateutil>=2.7->matplotlib) (1.16.0)\n",
      "Note: you may need to restart the kernel to use updated packages.\n"
     ]
    }
   ],
   "source": [
    "pip install matplotlib seaborn"
   ]
  },
  {
   "cell_type": "code",
   "execution_count": 20,
   "id": "425e904c-39d4-4ac6-bb65-de09bcd0d76e",
   "metadata": {},
   "outputs": [],
   "source": [
    "import matplotlib.pyplot as plt\n",
    "import seaborn as sns"
   ]
  },
  {
   "cell_type": "code",
   "execution_count": 25,
   "id": "aa068dac-8f0a-4d7d-a7f7-6ee9a1b90f63",
   "metadata": {},
   "outputs": [
    {
     "name": "stderr",
     "output_type": "stream",
     "text": [
      "C:\\Users\\Administrator\\AppData\\Local\\Temp\\ipykernel_10596\\1453751428.py:5: FutureWarning: \n",
      "\n",
      "Passing `palette` without assigning `hue` is deprecated and will be removed in v0.14.0. Assign the `y` variable to `hue` and set `legend=False` for the same effect.\n",
      "\n",
      "  sns.barplot(x='quantity', y='name', data=top_pizza_types, palette='magma')\n"
     ]
    },
    {
     "data": {
      "image/png": "[encoded data removed]",
      "text/plain": [
       "<Figure size 1200x600 with 1 Axes>"
      ]
     },
     "metadata": {},
     "output_type": "display_data"
    }
   ],
   "source": [
    "# Top Pizza Types by Quantity Ordered\n",
    "top_pizza_types = order_details_extended_df.groupby('name')['quantity'].sum().nlargest(5).reset_index()\n",
    "\n",
    "plt.figure(figsize=(12, 6))\n",
    "sns.barplot(x='quantity', y='name', data=top_pizza_types, palette='magma')\n",
    "plt.title('Top 5 Pizza Types by Quantity Ordered')\n",
    "plt.xlabel('Total Quantity Ordered')\n",
    "plt.ylabel('Pizza Type')\n",
    "plt.grid(axis='x')\n",
    "plt.tight_layout()\n",
    "plt.show()"
   ]
  },
  {
   "cell_type": "code",
   "execution_count": 26,
   "id": "a728dc2a-b45a-42de-802d-1cc0672d92ba",
   "metadata": {},
   "outputs": [
    {
     "data": {
      "image/png": "[encoded data removed]",
      "text/plain": [
       "<Figure size 800x800 with 1 Axes>"
      ]
     },
     "metadata": {},
     "output_type": "display_data"
    }
   ],
   "source": [
    "# Category-wise Distribution of Pizzas\n",
    "category_distribution = order_details_extended_df.groupby('category')['quantity'].sum().reset_index()\n",
    "\n",
    "plt.figure(figsize=(8, 8))\n",
    "plt.pie(category_distribution['quantity'], labels=category_distribution['category'], autopct='%1.1f%%', startangle=140)\n",
    "plt.title('Category-wise Distribution of Pizzas')\n",
    "plt.axis('equal')  # Equal aspect ratio ensures that pie is drawn as a circle.\n",
    "plt.show()"
   ]
  }
 ],
 "metadata": {
  "kernelspec": {
   "display_name": "Python 3 (ipykernel)",
   "language": "python",
   "name": "python3"
  },
  "language_info": {
   "codemirror_mode": {
    "name": "ipython",
    "version": 3
   },
   "file_extension": ".py",
   "mimetype": "text/x-python",
   "name": "python",
   "nbconvert_exporter": "python",
   "pygments_lexer": "ipython3",
   "version": "3.12.4"
  }
 },
 "nbformat": 4,
 "nbformat_minor": 5
}
